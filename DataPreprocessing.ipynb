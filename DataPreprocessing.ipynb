{
  "nbformat": 4,
  "nbformat_minor": 0,
  "metadata": {
    "colab": {
      "name": "DataPreprocessing.ipynb",
      "provenance": [],
      "collapsed_sections": []
    },
    "kernelspec": {
      "name": "python3",
      "display_name": "Python 3"
    },
    "language_info": {
      "name": "python"
    }
  },
  "cells": [
    {
      "cell_type": "markdown",
      "metadata": {
        "id": "AketbKR7cAaF"
      },
      "source": [
        "**Step 1: Importing the libraries**"
      ]
    },
    {
      "cell_type": "code",
      "metadata": {
        "id": "_ApieS21bdbN"
      },
      "source": [
        "import numpy as np\n",
        "import pandas as pd\n",
        "import matplotlib.pyplot as plt\n"
      ],
      "execution_count": 12,
      "outputs": []
    },
    {
      "cell_type": "markdown",
      "metadata": {
        "id": "Gq1_kSwHcH4n"
      },
      "source": [
        "**Step 2: Importing dataset**"
      ]
    },
    {
      "cell_type": "code",
      "metadata": {
        "id": "HefV9KfcbdoE"
      },
      "source": [
        "df = pd.read_csv(\"Data.csv\")"
      ],
      "execution_count": 13,
      "outputs": []
    },
    {
      "cell_type": "code",
      "source": [
        "df.head()"
      ],
      "metadata": {
        "colab": {
          "base_uri": "https://localhost:8080/",
          "height": 206
        },
        "id": "t_SPDj6y7dgs",
        "outputId": "4a4b88b4-de0a-4a1c-ff09-8401272c5205"
      },
      "execution_count": 14,
      "outputs": [
        {
          "output_type": "execute_result",
          "data": {
            "text/plain": [
              "   Country   Age   Salary Purchased\n",
              "0   France  44.0  72000.0        No\n",
              "1    Spain  27.0  48000.0       Yes\n",
              "2  Germany  30.0  54000.0        No\n",
              "3    Spain  38.0  61000.0        No\n",
              "4  Germany  40.0      NaN       Yes"
            ],
            "text/html": [
              "\n",
              "  <div id=\"df-80a29a4f-934d-442d-aaba-8f4883bd3180\">\n",
              "    <div class=\"colab-df-container\">\n",
              "      <div>\n",
              "<style scoped>\n",
              "    .dataframe tbody tr th:only-of-type {\n",
              "        vertical-align: middle;\n",
              "    }\n",
              "\n",
              "    .dataframe tbody tr th {\n",
              "        vertical-align: top;\n",
              "    }\n",
              "\n",
              "    .dataframe thead th {\n",
              "        text-align: right;\n",
              "    }\n",
              "</style>\n",
              "<table border=\"1\" class=\"dataframe\">\n",
              "  <thead>\n",
              "    <tr style=\"text-align: right;\">\n",
              "      <th></th>\n",
              "      <th>Country</th>\n",
              "      <th>Age</th>\n",
              "      <th>Salary</th>\n",
              "      <th>Purchased</th>\n",
              "    </tr>\n",
              "  </thead>\n",
              "  <tbody>\n",
              "    <tr>\n",
              "      <th>0</th>\n",
              "      <td>France</td>\n",
              "      <td>44.0</td>\n",
              "      <td>72000.0</td>\n",
              "      <td>No</td>\n",
              "    </tr>\n",
              "    <tr>\n",
              "      <th>1</th>\n",
              "      <td>Spain</td>\n",
              "      <td>27.0</td>\n",
              "      <td>48000.0</td>\n",
              "      <td>Yes</td>\n",
              "    </tr>\n",
              "    <tr>\n",
              "      <th>2</th>\n",
              "      <td>Germany</td>\n",
              "      <td>30.0</td>\n",
              "      <td>54000.0</td>\n",
              "      <td>No</td>\n",
              "    </tr>\n",
              "    <tr>\n",
              "      <th>3</th>\n",
              "      <td>Spain</td>\n",
              "      <td>38.0</td>\n",
              "      <td>61000.0</td>\n",
              "      <td>No</td>\n",
              "    </tr>\n",
              "    <tr>\n",
              "      <th>4</th>\n",
              "      <td>Germany</td>\n",
              "      <td>40.0</td>\n",
              "      <td>NaN</td>\n",
              "      <td>Yes</td>\n",
              "    </tr>\n",
              "  </tbody>\n",
              "</table>\n",
              "</div>\n",
              "      <button class=\"colab-df-convert\" onclick=\"convertToInteractive('df-80a29a4f-934d-442d-aaba-8f4883bd3180')\"\n",
              "              title=\"Convert this dataframe to an interactive table.\"\n",
              "              style=\"display:none;\">\n",
              "        \n",
              "  <svg xmlns=\"http://www.w3.org/2000/svg\" height=\"24px\"viewBox=\"0 0 24 24\"\n",
              "       width=\"24px\">\n",
              "    <path d=\"M0 0h24v24H0V0z\" fill=\"none\"/>\n",
              "    <path d=\"M18.56 5.44l.94 2.06.94-2.06 2.06-.94-2.06-.94-.94-2.06-.94 2.06-2.06.94zm-11 1L8.5 8.5l.94-2.06 2.06-.94-2.06-.94L8.5 2.5l-.94 2.06-2.06.94zm10 10l.94 2.06.94-2.06 2.06-.94-2.06-.94-.94-2.06-.94 2.06-2.06.94z\"/><path d=\"M17.41 7.96l-1.37-1.37c-.4-.4-.92-.59-1.43-.59-.52 0-1.04.2-1.43.59L10.3 9.45l-7.72 7.72c-.78.78-.78 2.05 0 2.83L4 21.41c.39.39.9.59 1.41.59.51 0 1.02-.2 1.41-.59l7.78-7.78 2.81-2.81c.8-.78.8-2.07 0-2.86zM5.41 20L4 18.59l7.72-7.72 1.47 1.35L5.41 20z\"/>\n",
              "  </svg>\n",
              "      </button>\n",
              "      \n",
              "  <style>\n",
              "    .colab-df-container {\n",
              "      display:flex;\n",
              "      flex-wrap:wrap;\n",
              "      gap: 12px;\n",
              "    }\n",
              "\n",
              "    .colab-df-convert {\n",
              "      background-color: #E8F0FE;\n",
              "      border: none;\n",
              "      border-radius: 50%;\n",
              "      cursor: pointer;\n",
              "      display: none;\n",
              "      fill: #1967D2;\n",
              "      height: 32px;\n",
              "      padding: 0 0 0 0;\n",
              "      width: 32px;\n",
              "    }\n",
              "\n",
              "    .colab-df-convert:hover {\n",
              "      background-color: #E2EBFA;\n",
              "      box-shadow: 0px 1px 2px rgba(60, 64, 67, 0.3), 0px 1px 3px 1px rgba(60, 64, 67, 0.15);\n",
              "      fill: #174EA6;\n",
              "    }\n",
              "\n",
              "    [theme=dark] .colab-df-convert {\n",
              "      background-color: #3B4455;\n",
              "      fill: #D2E3FC;\n",
              "    }\n",
              "\n",
              "    [theme=dark] .colab-df-convert:hover {\n",
              "      background-color: #434B5C;\n",
              "      box-shadow: 0px 1px 3px 1px rgba(0, 0, 0, 0.15);\n",
              "      filter: drop-shadow(0px 1px 2px rgba(0, 0, 0, 0.3));\n",
              "      fill: #FFFFFF;\n",
              "    }\n",
              "  </style>\n",
              "\n",
              "      <script>\n",
              "        const buttonEl =\n",
              "          document.querySelector('#df-80a29a4f-934d-442d-aaba-8f4883bd3180 button.colab-df-convert');\n",
              "        buttonEl.style.display =\n",
              "          google.colab.kernel.accessAllowed ? 'block' : 'none';\n",
              "\n",
              "        async function convertToInteractive(key) {\n",
              "          const element = document.querySelector('#df-80a29a4f-934d-442d-aaba-8f4883bd3180');\n",
              "          const dataTable =\n",
              "            await google.colab.kernel.invokeFunction('convertToInteractive',\n",
              "                                                     [key], {});\n",
              "          if (!dataTable) return;\n",
              "\n",
              "          const docLinkHtml = 'Like what you see? Visit the ' +\n",
              "            '<a target=\"_blank\" href=https://colab.research.google.com/notebooks/data_table.ipynb>data table notebook</a>'\n",
              "            + ' to learn more about interactive tables.';\n",
              "          element.innerHTML = '';\n",
              "          dataTable['output_type'] = 'display_data';\n",
              "          await google.colab.output.renderOutput(dataTable, element);\n",
              "          const docLink = document.createElement('div');\n",
              "          docLink.innerHTML = docLinkHtml;\n",
              "          element.appendChild(docLink);\n",
              "        }\n",
              "      </script>\n",
              "    </div>\n",
              "  </div>\n",
              "  "
            ]
          },
          "metadata": {},
          "execution_count": 14
        }
      ]
    },
    {
      "cell_type": "code",
      "source": [
        "df.Salary.isnull().sum()"
      ],
      "metadata": {
        "colab": {
          "base_uri": "https://localhost:8080/"
        },
        "id": "KhrkKnWfPU1J",
        "outputId": "23c739a5-4d65-4bbb-ef9a-d48f6855b4e4"
      },
      "execution_count": 38,
      "outputs": [
        {
          "output_type": "execute_result",
          "data": {
            "text/plain": [
              "1"
            ]
          },
          "metadata": {},
          "execution_count": 38
        }
      ]
    },
    {
      "cell_type": "code",
      "source": [
        "x = df.iloc[:,:-1].values\n",
        "y = df.iloc[:,3].values\n",
        "x,y"
      ],
      "metadata": {
        "colab": {
          "base_uri": "https://localhost:8080/"
        },
        "id": "-7p4Hrj07lx8",
        "outputId": "a2f6ceba-2fc0-4e49-bc9e-49800b9f0dc2"
      },
      "execution_count": 39,
      "outputs": [
        {
          "output_type": "execute_result",
          "data": {
            "text/plain": [
              "(array([['France', 44.0, 72000.0],\n",
              "        ['Spain', 27.0, 48000.0],\n",
              "        ['Germany', 30.0, 54000.0],\n",
              "        ['Spain', 38.0, 61000.0],\n",
              "        ['Germany', 40.0, nan],\n",
              "        ['France', 35.0, 58000.0],\n",
              "        ['Spain', nan, 52000.0],\n",
              "        ['France', 48.0, 79000.0],\n",
              "        ['Germany', 50.0, 83000.0],\n",
              "        ['France', 37.0, 67000.0]], dtype=object),\n",
              " array(['No', 'Yes', 'No', 'No', 'Yes', 'Yes', 'No', 'Yes', 'No', 'Yes'],\n",
              "       dtype=object))"
            ]
          },
          "metadata": {},
          "execution_count": 39
        }
      ]
    },
    {
      "cell_type": "markdown",
      "metadata": {
        "id": "FxaiAQCQcX7Z"
      },
      "source": [
        "**Step 3: Handling the missing data**"
      ]
    },
    {
      "cell_type": "code",
      "metadata": {
        "id": "veMJJywXbdr-",
        "colab": {
          "base_uri": "https://localhost:8080/"
        },
        "outputId": "4a4ee6fe-c3b5-4dc0-ad5a-a512ecfea423"
      },
      "source": [
        "from sklearn.impute import SimpleImputer\n",
        "imputer= SimpleImputer(missing_values=np.nan, strategy='mean')\n",
        "\n",
        "#Fitting imputer object to the independent variables x.   \n",
        "imputerimputer= imputer.fit(x[:, 1:3])  \n",
        "\n",
        "#Replacing missing data with the calculated mean value  \n",
        "x[:, 1:3]= imputer.transform(x[:, 1:3])  \n",
        "\n",
        "\n"
      ],
      "execution_count": 40,
      "outputs": [
        {
          "output_type": "execute_result",
          "data": {
            "text/plain": [
              "SimpleImputer()"
            ]
          },
          "metadata": {},
          "execution_count": 40
        }
      ]
    },
    {
      "cell_type": "markdown",
      "metadata": {
        "id": "wBdj7QVmciFh"
      },
      "source": [
        "**Step 4: Encoding categorical data**"
      ]
    },
    {
      "cell_type": "code",
      "metadata": {
        "id": "Nbgm4YJBbdwG",
        "colab": {
          "base_uri": "https://localhost:8080/"
        },
        "outputId": "7c87faea-9b50-46d7-a9a6-96d414324a0c"
      },
      "source": [
        "from sklearn.preprocessing import LabelEncoder  \n",
        "label_encoder_x= LabelEncoder()  \n",
        "x[:, 0]= label_encoder_x.fit_transform(x[:, 0])  \n",
        "x"
      ],
      "execution_count": 41,
      "outputs": [
        {
          "output_type": "execute_result",
          "data": {
            "text/plain": [
              "array([[0, 44.0, 72000.0],\n",
              "       [2, 27.0, 48000.0],\n",
              "       [1, 30.0, 54000.0],\n",
              "       [2, 38.0, 61000.0],\n",
              "       [1, 40.0, 63777.77777777778],\n",
              "       [0, 35.0, 58000.0],\n",
              "       [2, 38.77777777777778, 52000.0],\n",
              "       [0, 48.0, 79000.0],\n",
              "       [1, 50.0, 83000.0],\n",
              "       [0, 37.0, 67000.0]], dtype=object)"
            ]
          },
          "metadata": {},
          "execution_count": 41
        }
      ]
    },
    {
      "cell_type": "markdown",
      "metadata": {
        "id": "cFSk6n3XcpIs"
      },
      "source": [
        "**Step 5: Creating a dummy variable**"
      ]
    },
    {
      "cell_type": "code",
      "metadata": {
        "id": "9ETxfCgZbd0O",
        "colab": {
          "base_uri": "https://localhost:8080/"
        },
        "outputId": "2bde32bf-efdc-4a40-a43f-ce991277bf3e"
      },
      "source": [
        "from sklearn.preprocessing import LabelEncoder, OneHotEncoder  \n",
        "label_encoder_x= LabelEncoder()  \n",
        "x[:, 0]= label_encoder_x.fit_transform(x[:, 0])  \n",
        "\n",
        "#Encoding for dummy variables  \n",
        "onehot_encoder= OneHotEncoder()    \n",
        "x= onehot_encoder.fit_transform(x).toarray()  \n",
        "x"
      ],
      "execution_count": 42,
      "outputs": [
        {
          "output_type": "execute_result",
          "data": {
            "text/plain": [
              "array([[1., 0., 0., 0., 0., 0., 0., 0., 0., 0., 1., 0., 0., 0., 0., 0.,\n",
              "        0., 0., 0., 0., 1., 0., 0.],\n",
              "       [0., 0., 1., 1., 0., 0., 0., 0., 0., 0., 0., 0., 0., 1., 0., 0.,\n",
              "        0., 0., 0., 0., 0., 0., 0.],\n",
              "       [0., 1., 0., 0., 1., 0., 0., 0., 0., 0., 0., 0., 0., 0., 0., 1.,\n",
              "        0., 0., 0., 0., 0., 0., 0.],\n",
              "       [0., 0., 1., 0., 0., 0., 0., 1., 0., 0., 0., 0., 0., 0., 0., 0.,\n",
              "        0., 1., 0., 0., 0., 0., 0.],\n",
              "       [0., 1., 0., 0., 0., 0., 0., 0., 0., 1., 0., 0., 0., 0., 0., 0.,\n",
              "        0., 0., 1., 0., 0., 0., 0.],\n",
              "       [1., 0., 0., 0., 0., 1., 0., 0., 0., 0., 0., 0., 0., 0., 0., 0.,\n",
              "        1., 0., 0., 0., 0., 0., 0.],\n",
              "       [0., 0., 1., 0., 0., 0., 0., 0., 1., 0., 0., 0., 0., 0., 1., 0.,\n",
              "        0., 0., 0., 0., 0., 0., 0.],\n",
              "       [1., 0., 0., 0., 0., 0., 0., 0., 0., 0., 0., 1., 0., 0., 0., 0.,\n",
              "        0., 0., 0., 0., 0., 1., 0.],\n",
              "       [0., 1., 0., 0., 0., 0., 0., 0., 0., 0., 0., 0., 1., 0., 0., 0.,\n",
              "        0., 0., 0., 0., 0., 0., 1.],\n",
              "       [1., 0., 0., 0., 0., 0., 1., 0., 0., 0., 0., 0., 0., 0., 0., 0.,\n",
              "        0., 0., 0., 1., 0., 0., 0.]])"
            ]
          },
          "metadata": {},
          "execution_count": 42
        }
      ]
    },
    {
      "cell_type": "code",
      "source": [
        "labelencoder_y= LabelEncoder()  \n",
        "y= labelencoder_y.fit_transform(y)  \n",
        "y"
      ],
      "metadata": {
        "colab": {
          "base_uri": "https://localhost:8080/"
        },
        "id": "DvxEPpWyN69T",
        "outputId": "e0b659d3-8805-4d2a-aabd-991c9e606391"
      },
      "execution_count": 43,
      "outputs": [
        {
          "output_type": "execute_result",
          "data": {
            "text/plain": [
              "array([0, 1, 0, 0, 1, 1, 0, 1, 0, 1])"
            ]
          },
          "metadata": {},
          "execution_count": 43
        }
      ]
    },
    {
      "cell_type": "markdown",
      "metadata": {
        "id": "QSSKm1p4c2md"
      },
      "source": [
        "**Step 6: Splitting the datasets into training sets and Test sets**"
      ]
    },
    {
      "cell_type": "code",
      "metadata": {
        "id": "kw21hHAqbd4x"
      },
      "source": [
        "from sklearn.model_selection import train_test_split  \n",
        "x_train, x_test, y_train, y_test= train_test_split(x, y, test_size= 0.2, random_state=0)  "
      ],
      "execution_count": 31,
      "outputs": []
    },
    {
      "cell_type": "markdown",
      "metadata": {
        "id": "YA8VCdb5c9Dh"
      },
      "source": [
        "**Step 7: Feature Scaling**"
      ]
    },
    {
      "cell_type": "code",
      "metadata": {
        "id": "LhV2lO1Gbd9l"
      },
      "source": [
        "from sklearn.preprocessing import StandardScaler\n",
        "st_x= StandardScaler()  \n",
        "x_train= st_x.fit_transform(x_train) \n",
        "x_test= st_x.transform(x_test)"
      ],
      "execution_count": 33,
      "outputs": []
    },
    {
      "cell_type": "code",
      "metadata": {
        "id": "zRwvGcTdbeCd",
        "colab": {
          "base_uri": "https://localhost:8080/"
        },
        "outputId": "d650c9a8-47e4-4e54-ff6b-89521341cd85"
      },
      "source": [
        "x_train,x_test"
      ],
      "execution_count": 35,
      "outputs": [
        {
          "output_type": "execute_result",
          "data": {
            "text/plain": [
              "(array([[-1.        ,  2.64575131, -0.77459667, -0.37796447,  0.        ,\n",
              "         -0.37796447, -0.37796447, -0.37796447, -0.37796447,  2.64575131,\n",
              "         -0.37796447, -0.37796447,  0.        , -0.37796447, -0.37796447,\n",
              "          0.        , -0.37796447, -0.37796447,  2.64575131, -0.37796447,\n",
              "         -0.37796447, -0.37796447,  0.        ],\n",
              "        [ 1.        , -0.37796447, -0.77459667, -0.37796447,  0.        ,\n",
              "         -0.37796447,  2.64575131, -0.37796447, -0.37796447, -0.37796447,\n",
              "         -0.37796447, -0.37796447,  0.        , -0.37796447, -0.37796447,\n",
              "          0.        , -0.37796447, -0.37796447, -0.37796447,  2.64575131,\n",
              "         -0.37796447, -0.37796447,  0.        ],\n",
              "        [-1.        , -0.37796447,  1.29099445,  2.64575131,  0.        ,\n",
              "         -0.37796447, -0.37796447, -0.37796447, -0.37796447, -0.37796447,\n",
              "         -0.37796447, -0.37796447,  0.        ,  2.64575131, -0.37796447,\n",
              "          0.        , -0.37796447, -0.37796447, -0.37796447, -0.37796447,\n",
              "         -0.37796447, -0.37796447,  0.        ],\n",
              "        [-1.        , -0.37796447,  1.29099445, -0.37796447,  0.        ,\n",
              "         -0.37796447, -0.37796447, -0.37796447,  2.64575131, -0.37796447,\n",
              "         -0.37796447, -0.37796447,  0.        , -0.37796447,  2.64575131,\n",
              "          0.        , -0.37796447, -0.37796447, -0.37796447, -0.37796447,\n",
              "         -0.37796447, -0.37796447,  0.        ],\n",
              "        [ 1.        , -0.37796447, -0.77459667, -0.37796447,  0.        ,\n",
              "         -0.37796447, -0.37796447, -0.37796447, -0.37796447, -0.37796447,\n",
              "         -0.37796447,  2.64575131,  0.        , -0.37796447, -0.37796447,\n",
              "          0.        , -0.37796447, -0.37796447, -0.37796447, -0.37796447,\n",
              "         -0.37796447,  2.64575131,  0.        ],\n",
              "        [-1.        , -0.37796447,  1.29099445, -0.37796447,  0.        ,\n",
              "         -0.37796447, -0.37796447,  2.64575131, -0.37796447, -0.37796447,\n",
              "         -0.37796447, -0.37796447,  0.        , -0.37796447, -0.37796447,\n",
              "          0.        , -0.37796447,  2.64575131, -0.37796447, -0.37796447,\n",
              "         -0.37796447, -0.37796447,  0.        ],\n",
              "        [ 1.        , -0.37796447, -0.77459667, -0.37796447,  0.        ,\n",
              "         -0.37796447, -0.37796447, -0.37796447, -0.37796447, -0.37796447,\n",
              "          2.64575131, -0.37796447,  0.        , -0.37796447, -0.37796447,\n",
              "          0.        , -0.37796447, -0.37796447, -0.37796447, -0.37796447,\n",
              "          2.64575131, -0.37796447,  0.        ],\n",
              "        [ 1.        , -0.37796447, -0.77459667, -0.37796447,  0.        ,\n",
              "          2.64575131, -0.37796447, -0.37796447, -0.37796447, -0.37796447,\n",
              "         -0.37796447, -0.37796447,  0.        , -0.37796447, -0.37796447,\n",
              "          0.        ,  2.64575131, -0.37796447, -0.37796447, -0.37796447,\n",
              "         -0.37796447, -0.37796447,  0.        ]]),\n",
              " array([[-1.        ,  2.64575131, -0.77459667, -0.37796447,  1.        ,\n",
              "         -0.37796447, -0.37796447, -0.37796447, -0.37796447, -0.37796447,\n",
              "         -0.37796447, -0.37796447,  0.        , -0.37796447, -0.37796447,\n",
              "          1.        , -0.37796447, -0.37796447, -0.37796447, -0.37796447,\n",
              "         -0.37796447, -0.37796447,  0.        ],\n",
              "        [-1.        ,  2.64575131, -0.77459667, -0.37796447,  0.        ,\n",
              "         -0.37796447, -0.37796447, -0.37796447, -0.37796447, -0.37796447,\n",
              "         -0.37796447, -0.37796447,  1.        , -0.37796447, -0.37796447,\n",
              "          0.        , -0.37796447, -0.37796447, -0.37796447, -0.37796447,\n",
              "         -0.37796447, -0.37796447,  1.        ]]))"
            ]
          },
          "metadata": {},
          "execution_count": 35
        }
      ]
    },
    {
      "cell_type": "code",
      "source": [
        ""
      ],
      "metadata": {
        "id": "dQnJtVOlObLX"
      },
      "execution_count": null,
      "outputs": []
    }
  ]
}